{
  "nbformat": 4,
  "nbformat_minor": 0,
  "metadata": {
    "colab": {
      "name": "GPT2.ipynb",
      "provenance": [],
      "collapsed_sections": [],
      "toc_visible": true
    },
    "kernelspec": {
      "name": "python3",
      "display_name": "Python 3"
    },
    "accelerator": "GPU",
    "widgets": {
      "application/vnd.jupyter.widget-state+json": {
        "c80938abc33040f8a09ecdc91044aeae": {
          "model_module": "@jupyter-widgets/controls",
          "model_name": "HBoxModel",
          "state": {
            "_view_name": "HBoxView",
            "_dom_classes": [],
            "_model_name": "HBoxModel",
            "_view_module": "@jupyter-widgets/controls",
            "_model_module_version": "1.5.0",
            "_view_count": null,
            "_view_module_version": "1.5.0",
            "box_style": "",
            "layout": "IPY_MODEL_44773f6abda6449a9b5830548b7c603a",
            "_model_module": "@jupyter-widgets/controls",
            "children": [
              "IPY_MODEL_a15733d5c4e84d0aa5af46283ca3300f",
              "IPY_MODEL_5e5e6f7057604e6b97c9dd831545da13"
            ]
          }
        },
        "44773f6abda6449a9b5830548b7c603a": {
          "model_module": "@jupyter-widgets/base",
          "model_name": "LayoutModel",
          "state": {
            "_view_name": "LayoutView",
            "grid_template_rows": null,
            "right": null,
            "justify_content": null,
            "_view_module": "@jupyter-widgets/base",
            "overflow": null,
            "_model_module_version": "1.2.0",
            "_view_count": null,
            "flex_flow": null,
            "width": null,
            "min_width": null,
            "border": null,
            "align_items": null,
            "bottom": null,
            "_model_module": "@jupyter-widgets/base",
            "top": null,
            "grid_column": null,
            "overflow_y": null,
            "overflow_x": null,
            "grid_auto_flow": null,
            "grid_area": null,
            "grid_template_columns": null,
            "flex": null,
            "_model_name": "LayoutModel",
            "justify_items": null,
            "grid_row": null,
            "max_height": null,
            "align_content": null,
            "visibility": null,
            "align_self": null,
            "height": null,
            "min_height": null,
            "padding": null,
            "grid_auto_rows": null,
            "grid_gap": null,
            "max_width": null,
            "order": null,
            "_view_module_version": "1.2.0",
            "grid_template_areas": null,
            "object_position": null,
            "object_fit": null,
            "grid_auto_columns": null,
            "margin": null,
            "display": null,
            "left": null
          }
        },
        "a15733d5c4e84d0aa5af46283ca3300f": {
          "model_module": "@jupyter-widgets/controls",
          "model_name": "IntProgressModel",
          "state": {
            "_view_name": "ProgressView",
            "style": "IPY_MODEL_9ae4468fdc804c018bdc650caeb5cceb",
            "_dom_classes": [],
            "description": "Downloading",
            "_model_name": "IntProgressModel",
            "bar_style": "success",
            "max": 1042301,
            "_view_module": "@jupyter-widgets/controls",
            "_model_module_version": "1.5.0",
            "value": 1042301,
            "_view_count": null,
            "_view_module_version": "1.5.0",
            "orientation": "horizontal",
            "min": 0,
            "description_tooltip": null,
            "_model_module": "@jupyter-widgets/controls",
            "layout": "IPY_MODEL_fb0ff9fa3f00480e8fd05cbcd59ccfb7"
          }
        },
        "5e5e6f7057604e6b97c9dd831545da13": {
          "model_module": "@jupyter-widgets/controls",
          "model_name": "HTMLModel",
          "state": {
            "_view_name": "HTMLView",
            "style": "IPY_MODEL_104a0d38eaf74aba9df9313daf5688c3",
            "_dom_classes": [],
            "description": "",
            "_model_name": "HTMLModel",
            "placeholder": "​",
            "_view_module": "@jupyter-widgets/controls",
            "_model_module_version": "1.5.0",
            "value": "100% 1.04M/1.04M [00:01&lt;00:00, 947kB/s]",
            "_view_count": null,
            "_view_module_version": "1.5.0",
            "description_tooltip": null,
            "_model_module": "@jupyter-widgets/controls",
            "layout": "IPY_MODEL_9803608edd4545948f7c20ff195af69c"
          }
        },
        "9ae4468fdc804c018bdc650caeb5cceb": {
          "model_module": "@jupyter-widgets/controls",
          "model_name": "ProgressStyleModel",
          "state": {
            "_view_name": "StyleView",
            "_model_name": "ProgressStyleModel",
            "description_width": "initial",
            "_view_module": "@jupyter-widgets/base",
            "_model_module_version": "1.5.0",
            "_view_count": null,
            "_view_module_version": "1.2.0",
            "bar_color": null,
            "_model_module": "@jupyter-widgets/controls"
          }
        },
        "fb0ff9fa3f00480e8fd05cbcd59ccfb7": {
          "model_module": "@jupyter-widgets/base",
          "model_name": "LayoutModel",
          "state": {
            "_view_name": "LayoutView",
            "grid_template_rows": null,
            "right": null,
            "justify_content": null,
            "_view_module": "@jupyter-widgets/base",
            "overflow": null,
            "_model_module_version": "1.2.0",
            "_view_count": null,
            "flex_flow": null,
            "width": null,
            "min_width": null,
            "border": null,
            "align_items": null,
            "bottom": null,
            "_model_module": "@jupyter-widgets/base",
            "top": null,
            "grid_column": null,
            "overflow_y": null,
            "overflow_x": null,
            "grid_auto_flow": null,
            "grid_area": null,
            "grid_template_columns": null,
            "flex": null,
            "_model_name": "LayoutModel",
            "justify_items": null,
            "grid_row": null,
            "max_height": null,
            "align_content": null,
            "visibility": null,
            "align_self": null,
            "height": null,
            "min_height": null,
            "padding": null,
            "grid_auto_rows": null,
            "grid_gap": null,
            "max_width": null,
            "order": null,
            "_view_module_version": "1.2.0",
            "grid_template_areas": null,
            "object_position": null,
            "object_fit": null,
            "grid_auto_columns": null,
            "margin": null,
            "display": null,
            "left": null
          }
        },
        "104a0d38eaf74aba9df9313daf5688c3": {
          "model_module": "@jupyter-widgets/controls",
          "model_name": "DescriptionStyleModel",
          "state": {
            "_view_name": "StyleView",
            "_model_name": "DescriptionStyleModel",
            "description_width": "",
            "_view_module": "@jupyter-widgets/base",
            "_model_module_version": "1.5.0",
            "_view_count": null,
            "_view_module_version": "1.2.0",
            "_model_module": "@jupyter-widgets/controls"
          }
        },
        "9803608edd4545948f7c20ff195af69c": {
          "model_module": "@jupyter-widgets/base",
          "model_name": "LayoutModel",
          "state": {
            "_view_name": "LayoutView",
            "grid_template_rows": null,
            "right": null,
            "justify_content": null,
            "_view_module": "@jupyter-widgets/base",
            "overflow": null,
            "_model_module_version": "1.2.0",
            "_view_count": null,
            "flex_flow": null,
            "width": null,
            "min_width": null,
            "border": null,
            "align_items": null,
            "bottom": null,
            "_model_module": "@jupyter-widgets/base",
            "top": null,
            "grid_column": null,
            "overflow_y": null,
            "overflow_x": null,
            "grid_auto_flow": null,
            "grid_area": null,
            "grid_template_columns": null,
            "flex": null,
            "_model_name": "LayoutModel",
            "justify_items": null,
            "grid_row": null,
            "max_height": null,
            "align_content": null,
            "visibility": null,
            "align_self": null,
            "height": null,
            "min_height": null,
            "padding": null,
            "grid_auto_rows": null,
            "grid_gap": null,
            "max_width": null,
            "order": null,
            "_view_module_version": "1.2.0",
            "grid_template_areas": null,
            "object_position": null,
            "object_fit": null,
            "grid_auto_columns": null,
            "margin": null,
            "display": null,
            "left": null
          }
        },
        "df4741b287914ecb8ee7a42d56fa0143": {
          "model_module": "@jupyter-widgets/controls",
          "model_name": "HBoxModel",
          "state": {
            "_view_name": "HBoxView",
            "_dom_classes": [],
            "_model_name": "HBoxModel",
            "_view_module": "@jupyter-widgets/controls",
            "_model_module_version": "1.5.0",
            "_view_count": null,
            "_view_module_version": "1.5.0",
            "box_style": "",
            "layout": "IPY_MODEL_61248d5834f648efa48ba192f2026731",
            "_model_module": "@jupyter-widgets/controls",
            "children": [
              "IPY_MODEL_9a156d3540714996963e68eb11f18a8d",
              "IPY_MODEL_7f83cd467d264899855ed3df2548f3fd"
            ]
          }
        },
        "61248d5834f648efa48ba192f2026731": {
          "model_module": "@jupyter-widgets/base",
          "model_name": "LayoutModel",
          "state": {
            "_view_name": "LayoutView",
            "grid_template_rows": null,
            "right": null,
            "justify_content": null,
            "_view_module": "@jupyter-widgets/base",
            "overflow": null,
            "_model_module_version": "1.2.0",
            "_view_count": null,
            "flex_flow": null,
            "width": null,
            "min_width": null,
            "border": null,
            "align_items": null,
            "bottom": null,
            "_model_module": "@jupyter-widgets/base",
            "top": null,
            "grid_column": null,
            "overflow_y": null,
            "overflow_x": null,
            "grid_auto_flow": null,
            "grid_area": null,
            "grid_template_columns": null,
            "flex": null,
            "_model_name": "LayoutModel",
            "justify_items": null,
            "grid_row": null,
            "max_height": null,
            "align_content": null,
            "visibility": null,
            "align_self": null,
            "height": null,
            "min_height": null,
            "padding": null,
            "grid_auto_rows": null,
            "grid_gap": null,
            "max_width": null,
            "order": null,
            "_view_module_version": "1.2.0",
            "grid_template_areas": null,
            "object_position": null,
            "object_fit": null,
            "grid_auto_columns": null,
            "margin": null,
            "display": null,
            "left": null
          }
        },
        "9a156d3540714996963e68eb11f18a8d": {
          "model_module": "@jupyter-widgets/controls",
          "model_name": "IntProgressModel",
          "state": {
            "_view_name": "ProgressView",
            "style": "IPY_MODEL_3d00caf9928042e3b218604aba25315e",
            "_dom_classes": [],
            "description": "Downloading",
            "_model_name": "IntProgressModel",
            "bar_style": "success",
            "max": 456318,
            "_view_module": "@jupyter-widgets/controls",
            "_model_module_version": "1.5.0",
            "value": 456318,
            "_view_count": null,
            "_view_module_version": "1.5.0",
            "orientation": "horizontal",
            "min": 0,
            "description_tooltip": null,
            "_model_module": "@jupyter-widgets/controls",
            "layout": "IPY_MODEL_f46f8347cd3c47aaa448173b8ccefa2b"
          }
        },
        "7f83cd467d264899855ed3df2548f3fd": {
          "model_module": "@jupyter-widgets/controls",
          "model_name": "HTMLModel",
          "state": {
            "_view_name": "HTMLView",
            "style": "IPY_MODEL_0e8a9061722b4a7fb576120648533064",
            "_dom_classes": [],
            "description": "",
            "_model_name": "HTMLModel",
            "placeholder": "​",
            "_view_module": "@jupyter-widgets/controls",
            "_model_module_version": "1.5.0",
            "value": "100% 456k/456k [00:01&lt;00:00, 439kB/s]",
            "_view_count": null,
            "_view_module_version": "1.5.0",
            "description_tooltip": null,
            "_model_module": "@jupyter-widgets/controls",
            "layout": "IPY_MODEL_cdc5143ab7e7450680a0d1839b9aca21"
          }
        },
        "3d00caf9928042e3b218604aba25315e": {
          "model_module": "@jupyter-widgets/controls",
          "model_name": "ProgressStyleModel",
          "state": {
            "_view_name": "StyleView",
            "_model_name": "ProgressStyleModel",
            "description_width": "initial",
            "_view_module": "@jupyter-widgets/base",
            "_model_module_version": "1.5.0",
            "_view_count": null,
            "_view_module_version": "1.2.0",
            "bar_color": null,
            "_model_module": "@jupyter-widgets/controls"
          }
        },
        "f46f8347cd3c47aaa448173b8ccefa2b": {
          "model_module": "@jupyter-widgets/base",
          "model_name": "LayoutModel",
          "state": {
            "_view_name": "LayoutView",
            "grid_template_rows": null,
            "right": null,
            "justify_content": null,
            "_view_module": "@jupyter-widgets/base",
            "overflow": null,
            "_model_module_version": "1.2.0",
            "_view_count": null,
            "flex_flow": null,
            "width": null,
            "min_width": null,
            "border": null,
            "align_items": null,
            "bottom": null,
            "_model_module": "@jupyter-widgets/base",
            "top": null,
            "grid_column": null,
            "overflow_y": null,
            "overflow_x": null,
            "grid_auto_flow": null,
            "grid_area": null,
            "grid_template_columns": null,
            "flex": null,
            "_model_name": "LayoutModel",
            "justify_items": null,
            "grid_row": null,
            "max_height": null,
            "align_content": null,
            "visibility": null,
            "align_self": null,
            "height": null,
            "min_height": null,
            "padding": null,
            "grid_auto_rows": null,
            "grid_gap": null,
            "max_width": null,
            "order": null,
            "_view_module_version": "1.2.0",
            "grid_template_areas": null,
            "object_position": null,
            "object_fit": null,
            "grid_auto_columns": null,
            "margin": null,
            "display": null,
            "left": null
          }
        },
        "0e8a9061722b4a7fb576120648533064": {
          "model_module": "@jupyter-widgets/controls",
          "model_name": "DescriptionStyleModel",
          "state": {
            "_view_name": "StyleView",
            "_model_name": "DescriptionStyleModel",
            "description_width": "",
            "_view_module": "@jupyter-widgets/base",
            "_model_module_version": "1.5.0",
            "_view_count": null,
            "_view_module_version": "1.2.0",
            "_model_module": "@jupyter-widgets/controls"
          }
        },
        "cdc5143ab7e7450680a0d1839b9aca21": {
          "model_module": "@jupyter-widgets/base",
          "model_name": "LayoutModel",
          "state": {
            "_view_name": "LayoutView",
            "grid_template_rows": null,
            "right": null,
            "justify_content": null,
            "_view_module": "@jupyter-widgets/base",
            "overflow": null,
            "_model_module_version": "1.2.0",
            "_view_count": null,
            "flex_flow": null,
            "width": null,
            "min_width": null,
            "border": null,
            "align_items": null,
            "bottom": null,
            "_model_module": "@jupyter-widgets/base",
            "top": null,
            "grid_column": null,
            "overflow_y": null,
            "overflow_x": null,
            "grid_auto_flow": null,
            "grid_area": null,
            "grid_template_columns": null,
            "flex": null,
            "_model_name": "LayoutModel",
            "justify_items": null,
            "grid_row": null,
            "max_height": null,
            "align_content": null,
            "visibility": null,
            "align_self": null,
            "height": null,
            "min_height": null,
            "padding": null,
            "grid_auto_rows": null,
            "grid_gap": null,
            "max_width": null,
            "order": null,
            "_view_module_version": "1.2.0",
            "grid_template_areas": null,
            "object_position": null,
            "object_fit": null,
            "grid_auto_columns": null,
            "margin": null,
            "display": null,
            "left": null
          }
        },
        "025896ee4c464162a7ce0a9ecf74e959": {
          "model_module": "@jupyter-widgets/controls",
          "model_name": "HBoxModel",
          "state": {
            "_view_name": "HBoxView",
            "_dom_classes": [],
            "_model_name": "HBoxModel",
            "_view_module": "@jupyter-widgets/controls",
            "_model_module_version": "1.5.0",
            "_view_count": null,
            "_view_module_version": "1.5.0",
            "box_style": "",
            "layout": "IPY_MODEL_85e37786b40f44179cb464d93417d60e",
            "_model_module": "@jupyter-widgets/controls",
            "children": [
              "IPY_MODEL_1e3a6add43714ef9a06717d590b05210",
              "IPY_MODEL_e06ee46547eb47fa8102c1ed2dabcf2a"
            ]
          }
        },
        "85e37786b40f44179cb464d93417d60e": {
          "model_module": "@jupyter-widgets/base",
          "model_name": "LayoutModel",
          "state": {
            "_view_name": "LayoutView",
            "grid_template_rows": null,
            "right": null,
            "justify_content": null,
            "_view_module": "@jupyter-widgets/base",
            "overflow": null,
            "_model_module_version": "1.2.0",
            "_view_count": null,
            "flex_flow": null,
            "width": null,
            "min_width": null,
            "border": null,
            "align_items": null,
            "bottom": null,
            "_model_module": "@jupyter-widgets/base",
            "top": null,
            "grid_column": null,
            "overflow_y": null,
            "overflow_x": null,
            "grid_auto_flow": null,
            "grid_area": null,
            "grid_template_columns": null,
            "flex": null,
            "_model_name": "LayoutModel",
            "justify_items": null,
            "grid_row": null,
            "max_height": null,
            "align_content": null,
            "visibility": null,
            "align_self": null,
            "height": null,
            "min_height": null,
            "padding": null,
            "grid_auto_rows": null,
            "grid_gap": null,
            "max_width": null,
            "order": null,
            "_view_module_version": "1.2.0",
            "grid_template_areas": null,
            "object_position": null,
            "object_fit": null,
            "grid_auto_columns": null,
            "margin": null,
            "display": null,
            "left": null
          }
        },
        "1e3a6add43714ef9a06717d590b05210": {
          "model_module": "@jupyter-widgets/controls",
          "model_name": "IntProgressModel",
          "state": {
            "_view_name": "ProgressView",
            "style": "IPY_MODEL_f9086d596e8b4662a78ee14940201e2d",
            "_dom_classes": [],
            "description": "Downloading",
            "_model_name": "IntProgressModel",
            "bar_style": "success",
            "max": 577,
            "_view_module": "@jupyter-widgets/controls",
            "_model_module_version": "1.5.0",
            "value": 577,
            "_view_count": null,
            "_view_module_version": "1.5.0",
            "orientation": "horizontal",
            "min": 0,
            "description_tooltip": null,
            "_model_module": "@jupyter-widgets/controls",
            "layout": "IPY_MODEL_51315c2b5315414e8411ebd5848c732b"
          }
        },
        "e06ee46547eb47fa8102c1ed2dabcf2a": {
          "model_module": "@jupyter-widgets/controls",
          "model_name": "HTMLModel",
          "state": {
            "_view_name": "HTMLView",
            "style": "IPY_MODEL_ee24b17fb5e34fad9e1d2e3dd2185f77",
            "_dom_classes": [],
            "description": "",
            "_model_name": "HTMLModel",
            "placeholder": "​",
            "_view_module": "@jupyter-widgets/controls",
            "_model_module_version": "1.5.0",
            "value": "100% 577/577 [00:00&lt;00:00, 13.6kB/s]",
            "_view_count": null,
            "_view_module_version": "1.5.0",
            "description_tooltip": null,
            "_model_module": "@jupyter-widgets/controls",
            "layout": "IPY_MODEL_ff01bd594d754e1eae51796f769b7e74"
          }
        },
        "f9086d596e8b4662a78ee14940201e2d": {
          "model_module": "@jupyter-widgets/controls",
          "model_name": "ProgressStyleModel",
          "state": {
            "_view_name": "StyleView",
            "_model_name": "ProgressStyleModel",
            "description_width": "initial",
            "_view_module": "@jupyter-widgets/base",
            "_model_module_version": "1.5.0",
            "_view_count": null,
            "_view_module_version": "1.2.0",
            "bar_color": null,
            "_model_module": "@jupyter-widgets/controls"
          }
        },
        "51315c2b5315414e8411ebd5848c732b": {
          "model_module": "@jupyter-widgets/base",
          "model_name": "LayoutModel",
          "state": {
            "_view_name": "LayoutView",
            "grid_template_rows": null,
            "right": null,
            "justify_content": null,
            "_view_module": "@jupyter-widgets/base",
            "overflow": null,
            "_model_module_version": "1.2.0",
            "_view_count": null,
            "flex_flow": null,
            "width": null,
            "min_width": null,
            "border": null,
            "align_items": null,
            "bottom": null,
            "_model_module": "@jupyter-widgets/base",
            "top": null,
            "grid_column": null,
            "overflow_y": null,
            "overflow_x": null,
            "grid_auto_flow": null,
            "grid_area": null,
            "grid_template_columns": null,
            "flex": null,
            "_model_name": "LayoutModel",
            "justify_items": null,
            "grid_row": null,
            "max_height": null,
            "align_content": null,
            "visibility": null,
            "align_self": null,
            "height": null,
            "min_height": null,
            "padding": null,
            "grid_auto_rows": null,
            "grid_gap": null,
            "max_width": null,
            "order": null,
            "_view_module_version": "1.2.0",
            "grid_template_areas": null,
            "object_position": null,
            "object_fit": null,
            "grid_auto_columns": null,
            "margin": null,
            "display": null,
            "left": null
          }
        },
        "ee24b17fb5e34fad9e1d2e3dd2185f77": {
          "model_module": "@jupyter-widgets/controls",
          "model_name": "DescriptionStyleModel",
          "state": {
            "_view_name": "StyleView",
            "_model_name": "DescriptionStyleModel",
            "description_width": "",
            "_view_module": "@jupyter-widgets/base",
            "_model_module_version": "1.5.0",
            "_view_count": null,
            "_view_module_version": "1.2.0",
            "_model_module": "@jupyter-widgets/controls"
          }
        },
        "ff01bd594d754e1eae51796f769b7e74": {
          "model_module": "@jupyter-widgets/base",
          "model_name": "LayoutModel",
          "state": {
            "_view_name": "LayoutView",
            "grid_template_rows": null,
            "right": null,
            "justify_content": null,
            "_view_module": "@jupyter-widgets/base",
            "overflow": null,
            "_model_module_version": "1.2.0",
            "_view_count": null,
            "flex_flow": null,
            "width": null,
            "min_width": null,
            "border": null,
            "align_items": null,
            "bottom": null,
            "_model_module": "@jupyter-widgets/base",
            "top": null,
            "grid_column": null,
            "overflow_y": null,
            "overflow_x": null,
            "grid_auto_flow": null,
            "grid_area": null,
            "grid_template_columns": null,
            "flex": null,
            "_model_name": "LayoutModel",
            "justify_items": null,
            "grid_row": null,
            "max_height": null,
            "align_content": null,
            "visibility": null,
            "align_self": null,
            "height": null,
            "min_height": null,
            "padding": null,
            "grid_auto_rows": null,
            "grid_gap": null,
            "max_width": null,
            "order": null,
            "_view_module_version": "1.2.0",
            "grid_template_areas": null,
            "object_position": null,
            "object_fit": null,
            "grid_auto_columns": null,
            "margin": null,
            "display": null,
            "left": null
          }
        },
        "ceed9f78b02a48b595adce82f3e1c63f": {
          "model_module": "@jupyter-widgets/controls",
          "model_name": "HBoxModel",
          "state": {
            "_view_name": "HBoxView",
            "_dom_classes": [],
            "_model_name": "HBoxModel",
            "_view_module": "@jupyter-widgets/controls",
            "_model_module_version": "1.5.0",
            "_view_count": null,
            "_view_module_version": "1.5.0",
            "box_style": "",
            "layout": "IPY_MODEL_190aaa9c880b4aeb8121e74c79c4d7c1",
            "_model_module": "@jupyter-widgets/controls",
            "children": [
              "IPY_MODEL_3896dbe4d86248c09de4f975c2d3fbbd",
              "IPY_MODEL_81242ab3f8914a02b24908947b176ae5"
            ]
          }
        },
        "190aaa9c880b4aeb8121e74c79c4d7c1": {
          "model_module": "@jupyter-widgets/base",
          "model_name": "LayoutModel",
          "state": {
            "_view_name": "LayoutView",
            "grid_template_rows": null,
            "right": null,
            "justify_content": null,
            "_view_module": "@jupyter-widgets/base",
            "overflow": null,
            "_model_module_version": "1.2.0",
            "_view_count": null,
            "flex_flow": null,
            "width": null,
            "min_width": null,
            "border": null,
            "align_items": null,
            "bottom": null,
            "_model_module": "@jupyter-widgets/base",
            "top": null,
            "grid_column": null,
            "overflow_y": null,
            "overflow_x": null,
            "grid_auto_flow": null,
            "grid_area": null,
            "grid_template_columns": null,
            "flex": null,
            "_model_name": "LayoutModel",
            "justify_items": null,
            "grid_row": null,
            "max_height": null,
            "align_content": null,
            "visibility": null,
            "align_self": null,
            "height": null,
            "min_height": null,
            "padding": null,
            "grid_auto_rows": null,
            "grid_gap": null,
            "max_width": null,
            "order": null,
            "_view_module_version": "1.2.0",
            "grid_template_areas": null,
            "object_position": null,
            "object_fit": null,
            "grid_auto_columns": null,
            "margin": null,
            "display": null,
            "left": null
          }
        },
        "3896dbe4d86248c09de4f975c2d3fbbd": {
          "model_module": "@jupyter-widgets/controls",
          "model_name": "IntProgressModel",
          "state": {
            "_view_name": "ProgressView",
            "style": "IPY_MODEL_93d27a4799854f5ea6d7805165413994",
            "_dom_classes": [],
            "description": "Downloading",
            "_model_name": "IntProgressModel",
            "bar_style": "success",
            "max": 3247202234,
            "_view_module": "@jupyter-widgets/controls",
            "_model_module_version": "1.5.0",
            "value": 3247202234,
            "_view_count": null,
            "_view_module_version": "1.5.0",
            "orientation": "horizontal",
            "min": 0,
            "description_tooltip": null,
            "_model_module": "@jupyter-widgets/controls",
            "layout": "IPY_MODEL_f736451dbfac41bbaaa62ce99eeb8683"
          }
        },
        "81242ab3f8914a02b24908947b176ae5": {
          "model_module": "@jupyter-widgets/controls",
          "model_name": "HTMLModel",
          "state": {
            "_view_name": "HTMLView",
            "style": "IPY_MODEL_be0573cabffd43d0949dc25ff5b839b5",
            "_dom_classes": [],
            "description": "",
            "_model_name": "HTMLModel",
            "placeholder": "​",
            "_view_module": "@jupyter-widgets/controls",
            "_model_module_version": "1.5.0",
            "value": "100% 3.25G/3.25G [05:26&lt;00:00, 9.95MB/s]",
            "_view_count": null,
            "_view_module_version": "1.5.0",
            "description_tooltip": null,
            "_model_module": "@jupyter-widgets/controls",
            "layout": "IPY_MODEL_ee1d112b6894476584fb23b2e365d630"
          }
        },
        "93d27a4799854f5ea6d7805165413994": {
          "model_module": "@jupyter-widgets/controls",
          "model_name": "ProgressStyleModel",
          "state": {
            "_view_name": "StyleView",
            "_model_name": "ProgressStyleModel",
            "description_width": "initial",
            "_view_module": "@jupyter-widgets/base",
            "_model_module_version": "1.5.0",
            "_view_count": null,
            "_view_module_version": "1.2.0",
            "bar_color": null,
            "_model_module": "@jupyter-widgets/controls"
          }
        },
        "f736451dbfac41bbaaa62ce99eeb8683": {
          "model_module": "@jupyter-widgets/base",
          "model_name": "LayoutModel",
          "state": {
            "_view_name": "LayoutView",
            "grid_template_rows": null,
            "right": null,
            "justify_content": null,
            "_view_module": "@jupyter-widgets/base",
            "overflow": null,
            "_model_module_version": "1.2.0",
            "_view_count": null,
            "flex_flow": null,
            "width": null,
            "min_width": null,
            "border": null,
            "align_items": null,
            "bottom": null,
            "_model_module": "@jupyter-widgets/base",
            "top": null,
            "grid_column": null,
            "overflow_y": null,
            "overflow_x": null,
            "grid_auto_flow": null,
            "grid_area": null,
            "grid_template_columns": null,
            "flex": null,
            "_model_name": "LayoutModel",
            "justify_items": null,
            "grid_row": null,
            "max_height": null,
            "align_content": null,
            "visibility": null,
            "align_self": null,
            "height": null,
            "min_height": null,
            "padding": null,
            "grid_auto_rows": null,
            "grid_gap": null,
            "max_width": null,
            "order": null,
            "_view_module_version": "1.2.0",
            "grid_template_areas": null,
            "object_position": null,
            "object_fit": null,
            "grid_auto_columns": null,
            "margin": null,
            "display": null,
            "left": null
          }
        },
        "be0573cabffd43d0949dc25ff5b839b5": {
          "model_module": "@jupyter-widgets/controls",
          "model_name": "DescriptionStyleModel",
          "state": {
            "_view_name": "StyleView",
            "_model_name": "DescriptionStyleModel",
            "description_width": "",
            "_view_module": "@jupyter-widgets/base",
            "_model_module_version": "1.5.0",
            "_view_count": null,
            "_view_module_version": "1.2.0",
            "_model_module": "@jupyter-widgets/controls"
          }
        },
        "ee1d112b6894476584fb23b2e365d630": {
          "model_module": "@jupyter-widgets/base",
          "model_name": "LayoutModel",
          "state": {
            "_view_name": "LayoutView",
            "grid_template_rows": null,
            "right": null,
            "justify_content": null,
            "_view_module": "@jupyter-widgets/base",
            "overflow": null,
            "_model_module_version": "1.2.0",
            "_view_count": null,
            "flex_flow": null,
            "width": null,
            "min_width": null,
            "border": null,
            "align_items": null,
            "bottom": null,
            "_model_module": "@jupyter-widgets/base",
            "top": null,
            "grid_column": null,
            "overflow_y": null,
            "overflow_x": null,
            "grid_auto_flow": null,
            "grid_area": null,
            "grid_template_columns": null,
            "flex": null,
            "_model_name": "LayoutModel",
            "justify_items": null,
            "grid_row": null,
            "max_height": null,
            "align_content": null,
            "visibility": null,
            "align_self": null,
            "height": null,
            "min_height": null,
            "padding": null,
            "grid_auto_rows": null,
            "grid_gap": null,
            "max_width": null,
            "order": null,
            "_view_module_version": "1.2.0",
            "grid_template_areas": null,
            "object_position": null,
            "object_fit": null,
            "grid_auto_columns": null,
            "margin": null,
            "display": null,
            "left": null
          }
        }
      }
    }
  },
  "cells": [
    {
      "cell_type": "code",
      "metadata": {
        "id": "aDmoMqXfFf-A",
        "colab_type": "code",
        "outputId": "d870bab4-87c7-43b7-9729-9d56573baa94",
        "colab": {
          "base_uri": "https://localhost:8080/",
          "height": 51
        }
      },
      "source": [
        "import torch\n",
        "from torch.nn import functional as F\n",
        "import torchtext\n",
        "from torchtext.data.utils import get_tokenizer\n",
        "from torchtext.data import Field, BPTTIterator, TabularDataset\n",
        "from torch.utils.data import Dataset\n",
        "\n",
        "# If there's a GPU available...\n",
        "if torch.cuda.is_available():    \n",
        "\n",
        "    # Tell PyTorch to use the GPU.    \n",
        "    device = torch.device(\"cuda\")\n",
        "\n",
        "    print('There are %d GPU(s) available.' % torch.cuda.device_count())\n",
        "\n",
        "    print('We will use the GPU:', torch.cuda.get_device_name(0))\n",
        "\n",
        "# If not...\n",
        "else:\n",
        "    print('No GPU available, using the CPU instead.')\n",
        "    device = torch.device(\"cpu\")\n"
      ],
      "execution_count": 0,
      "outputs": [
        {
          "output_type": "stream",
          "text": [
            "There are 1 GPU(s) available.\n",
            "We will use the GPU: Tesla P4\n"
          ],
          "name": "stdout"
        }
      ]
    },
    {
      "cell_type": "code",
      "metadata": {
        "id": "bbWiU24yymUS",
        "colab_type": "code",
        "outputId": "2d2b8f6b-4204-4abb-eb1a-e57377a4ccac",
        "colab": {
          "base_uri": "https://localhost:8080/",
          "height": 666
        }
      },
      "source": [
        "!pip install transformers"
      ],
      "execution_count": 0,
      "outputs": [
        {
          "output_type": "stream",
          "text": [
            "Collecting transformers\n",
            "\u001b[?25l  Downloading https://files.pythonhosted.org/packages/13/33/ffb67897a6985a7b7d8e5e7878c3628678f553634bd3836404fef06ef19b/transformers-2.5.1-py3-none-any.whl (499kB)\n",
            "\r\u001b[K     |▋                               | 10kB 20.6MB/s eta 0:00:01\r\u001b[K     |█▎                              | 20kB 17.1MB/s eta 0:00:01\r\u001b[K     |██                              | 30kB 14.3MB/s eta 0:00:01\r\u001b[K     |██▋                             | 40kB 13.2MB/s eta 0:00:01\r\u001b[K     |███▎                            | 51kB 11.4MB/s eta 0:00:01\r\u001b[K     |████                            | 61kB 11.6MB/s eta 0:00:01\r\u001b[K     |████▋                           | 71kB 11.7MB/s eta 0:00:01\r\u001b[K     |█████▎                          | 81kB 11.8MB/s eta 0:00:01\r\u001b[K     |██████                          | 92kB 11.5MB/s eta 0:00:01\r\u001b[K     |██████▋                         | 102kB 11.4MB/s eta 0:00:01\r\u001b[K     |███████▏                        | 112kB 11.4MB/s eta 0:00:01\r\u001b[K     |███████▉                        | 122kB 11.4MB/s eta 0:00:01\r\u001b[K     |████████▌                       | 133kB 11.4MB/s eta 0:00:01\r\u001b[K     |█████████▏                      | 143kB 11.4MB/s eta 0:00:01\r\u001b[K     |█████████▉                      | 153kB 11.4MB/s eta 0:00:01\r\u001b[K     |██████████▌                     | 163kB 11.4MB/s eta 0:00:01\r\u001b[K     |███████████▏                    | 174kB 11.4MB/s eta 0:00:01\r\u001b[K     |███████████▉                    | 184kB 11.4MB/s eta 0:00:01\r\u001b[K     |████████████▌                   | 194kB 11.4MB/s eta 0:00:01\r\u001b[K     |█████████████▏                  | 204kB 11.4MB/s eta 0:00:01\r\u001b[K     |█████████████▉                  | 215kB 11.4MB/s eta 0:00:01\r\u001b[K     |██████████████▍                 | 225kB 11.4MB/s eta 0:00:01\r\u001b[K     |███████████████                 | 235kB 11.4MB/s eta 0:00:01\r\u001b[K     |███████████████▊                | 245kB 11.4MB/s eta 0:00:01\r\u001b[K     |████████████████▍               | 256kB 11.4MB/s eta 0:00:01\r\u001b[K     |█████████████████               | 266kB 11.4MB/s eta 0:00:01\r\u001b[K     |█████████████████▊              | 276kB 11.4MB/s eta 0:00:01\r\u001b[K     |██████████████████▍             | 286kB 11.4MB/s eta 0:00:01\r\u001b[K     |███████████████████             | 296kB 11.4MB/s eta 0:00:01\r\u001b[K     |███████████████████▊            | 307kB 11.4MB/s eta 0:00:01\r\u001b[K     |████████████████████▍           | 317kB 11.4MB/s eta 0:00:01\r\u001b[K     |█████████████████████           | 327kB 11.4MB/s eta 0:00:01\r\u001b[K     |█████████████████████▋          | 337kB 11.4MB/s eta 0:00:01\r\u001b[K     |██████████████████████▎         | 348kB 11.4MB/s eta 0:00:01\r\u001b[K     |███████████████████████         | 358kB 11.4MB/s eta 0:00:01\r\u001b[K     |███████████████████████▋        | 368kB 11.4MB/s eta 0:00:01\r\u001b[K     |████████████████████████▎       | 378kB 11.4MB/s eta 0:00:01\r\u001b[K     |█████████████████████████       | 389kB 11.4MB/s eta 0:00:01\r\u001b[K     |█████████████████████████▋      | 399kB 11.4MB/s eta 0:00:01\r\u001b[K     |██████████████████████████▎     | 409kB 11.4MB/s eta 0:00:01\r\u001b[K     |███████████████████████████     | 419kB 11.4MB/s eta 0:00:01\r\u001b[K     |███████████████████████████▋    | 430kB 11.4MB/s eta 0:00:01\r\u001b[K     |████████████████████████████▏   | 440kB 11.4MB/s eta 0:00:01\r\u001b[K     |████████████████████████████▉   | 450kB 11.4MB/s eta 0:00:01\r\u001b[K     |█████████████████████████████▌  | 460kB 11.4MB/s eta 0:00:01\r\u001b[K     |██████████████████████████████▏ | 471kB 11.4MB/s eta 0:00:01\r\u001b[K     |██████████████████████████████▉ | 481kB 11.4MB/s eta 0:00:01\r\u001b[K     |███████████████████████████████▌| 491kB 11.4MB/s eta 0:00:01\r\u001b[K     |████████████████████████████████| 501kB 11.4MB/s \n",
            "\u001b[?25hRequirement already satisfied: tqdm>=4.27 in /usr/local/lib/python3.6/dist-packages (from transformers) (4.28.1)\n",
            "Collecting tokenizers==0.5.2\n",
            "\u001b[?25l  Downloading https://files.pythonhosted.org/packages/d1/3f/73c881ea4723e43c1e9acf317cf407fab3a278daab3a69c98dcac511c04f/tokenizers-0.5.2-cp36-cp36m-manylinux1_x86_64.whl (3.7MB)\n",
            "\u001b[K     |████████████████████████████████| 3.7MB 46.7MB/s \n",
            "\u001b[?25hCollecting sentencepiece\n",
            "\u001b[?25l  Downloading https://files.pythonhosted.org/packages/74/f4/2d5214cbf13d06e7cb2c20d84115ca25b53ea76fa1f0ade0e3c9749de214/sentencepiece-0.1.85-cp36-cp36m-manylinux1_x86_64.whl (1.0MB)\n",
            "\u001b[K     |████████████████████████████████| 1.0MB 18.1MB/s \n",
            "\u001b[?25hRequirement already satisfied: regex!=2019.12.17 in /usr/local/lib/python3.6/dist-packages (from transformers) (2019.12.20)\n",
            "Requirement already satisfied: filelock in /usr/local/lib/python3.6/dist-packages (from transformers) (3.0.12)\n",
            "Requirement already satisfied: numpy in /usr/local/lib/python3.6/dist-packages (from transformers) (1.17.5)\n",
            "Requirement already satisfied: boto3 in /usr/local/lib/python3.6/dist-packages (from transformers) (1.11.15)\n",
            "Requirement already satisfied: requests in /usr/local/lib/python3.6/dist-packages (from transformers) (2.21.0)\n",
            "Collecting sacremoses\n",
            "\u001b[?25l  Downloading https://files.pythonhosted.org/packages/a6/b4/7a41d630547a4afd58143597d5a49e07bfd4c42914d8335b2a5657efc14b/sacremoses-0.0.38.tar.gz (860kB)\n",
            "\u001b[K     |████████████████████████████████| 870kB 33.1MB/s \n",
            "\u001b[?25hRequirement already satisfied: botocore<1.15.0,>=1.14.15 in /usr/local/lib/python3.6/dist-packages (from boto3->transformers) (1.14.15)\n",
            "Requirement already satisfied: s3transfer<0.4.0,>=0.3.0 in /usr/local/lib/python3.6/dist-packages (from boto3->transformers) (0.3.3)\n",
            "Requirement already satisfied: jmespath<1.0.0,>=0.7.1 in /usr/local/lib/python3.6/dist-packages (from boto3->transformers) (0.9.4)\n",
            "Requirement already satisfied: idna<2.9,>=2.5 in /usr/local/lib/python3.6/dist-packages (from requests->transformers) (2.8)\n",
            "Requirement already satisfied: chardet<3.1.0,>=3.0.2 in /usr/local/lib/python3.6/dist-packages (from requests->transformers) (3.0.4)\n",
            "Requirement already satisfied: certifi>=2017.4.17 in /usr/local/lib/python3.6/dist-packages (from requests->transformers) (2019.11.28)\n",
            "Requirement already satisfied: urllib3<1.25,>=1.21.1 in /usr/local/lib/python3.6/dist-packages (from requests->transformers) (1.24.3)\n",
            "Requirement already satisfied: six in /usr/local/lib/python3.6/dist-packages (from sacremoses->transformers) (1.12.0)\n",
            "Requirement already satisfied: click in /usr/local/lib/python3.6/dist-packages (from sacremoses->transformers) (7.0)\n",
            "Requirement already satisfied: joblib in /usr/local/lib/python3.6/dist-packages (from sacremoses->transformers) (0.14.1)\n",
            "Requirement already satisfied: python-dateutil<3.0.0,>=2.1 in /usr/local/lib/python3.6/dist-packages (from botocore<1.15.0,>=1.14.15->boto3->transformers) (2.6.1)\n",
            "Requirement already satisfied: docutils<0.16,>=0.10 in /usr/local/lib/python3.6/dist-packages (from botocore<1.15.0,>=1.14.15->boto3->transformers) (0.15.2)\n",
            "Building wheels for collected packages: sacremoses\n",
            "  Building wheel for sacremoses (setup.py) ... \u001b[?25l\u001b[?25hdone\n",
            "  Created wheel for sacremoses: filename=sacremoses-0.0.38-cp36-none-any.whl size=884628 sha256=809172c9c30d17724e6f7eafb0f80c8ed01431a2847d3319e72839c28d9bb03a\n",
            "  Stored in directory: /root/.cache/pip/wheels/6d/ec/1a/21b8912e35e02741306f35f66c785f3afe94de754a0eaf1422\n",
            "Successfully built sacremoses\n",
            "Installing collected packages: tokenizers, sentencepiece, sacremoses, transformers\n",
            "Successfully installed sacremoses-0.0.38 sentencepiece-0.1.85 tokenizers-0.5.2 transformers-2.5.1\n"
          ],
          "name": "stdout"
        }
      ]
    },
    {
      "cell_type": "code",
      "metadata": {
        "id": "9QuX4BTHGGLx",
        "colab_type": "code",
        "outputId": "a152b28c-fc83-4d76-a065-9c8c397912d2",
        "colab": {
          "base_uri": "https://localhost:8080/",
          "height": 195,
          "referenced_widgets": [
            "c80938abc33040f8a09ecdc91044aeae",
            "44773f6abda6449a9b5830548b7c603a",
            "a15733d5c4e84d0aa5af46283ca3300f",
            "5e5e6f7057604e6b97c9dd831545da13",
            "9ae4468fdc804c018bdc650caeb5cceb",
            "fb0ff9fa3f00480e8fd05cbcd59ccfb7",
            "104a0d38eaf74aba9df9313daf5688c3",
            "9803608edd4545948f7c20ff195af69c",
            "df4741b287914ecb8ee7a42d56fa0143",
            "61248d5834f648efa48ba192f2026731",
            "9a156d3540714996963e68eb11f18a8d",
            "7f83cd467d264899855ed3df2548f3fd",
            "3d00caf9928042e3b218604aba25315e",
            "f46f8347cd3c47aaa448173b8ccefa2b",
            "0e8a9061722b4a7fb576120648533064",
            "cdc5143ab7e7450680a0d1839b9aca21"
          ]
        }
      },
      "source": [
        "from transformers import GPT2Tokenizer, GPT2LMHeadModel, AdamW, get_linear_schedule_with_warmup\n",
        "# Load the BERT tokenizer.\n",
        "print('Loading GPT tokenizer...')\n",
        "tokenizer = GPT2Tokenizer.from_pretrained('gpt2-large', do_lower_case=True)"
      ],
      "execution_count": 0,
      "outputs": [
        {
          "output_type": "display_data",
          "data": {
            "text/html": [
              "<p style=\"color: red;\">\n",
              "The default version of TensorFlow in Colab will soon switch to TensorFlow 2.x.<br>\n",
              "We recommend you <a href=\"https://www.tensorflow.org/guide/migrate\" target=\"_blank\">upgrade</a> now \n",
              "or ensure your notebook will continue to use TensorFlow 1.x via the <code>%tensorflow_version 1.x</code> magic:\n",
              "<a href=\"https://colab.research.google.com/notebooks/tensorflow_version.ipynb\" target=\"_blank\">more info</a>.</p>\n"
            ],
            "text/plain": [
              "<IPython.core.display.HTML object>"
            ]
          },
          "metadata": {
            "tags": []
          }
        },
        {
          "output_type": "stream",
          "text": [
            "Loading GPT tokenizer...\n"
          ],
          "name": "stdout"
        },
        {
          "output_type": "display_data",
          "data": {
            "application/vnd.jupyter.widget-view+json": {
              "model_id": "c80938abc33040f8a09ecdc91044aeae",
              "version_minor": 0,
              "version_major": 2
            },
            "text/plain": [
              "HBox(children=(IntProgress(value=0, description='Downloading', max=1042301, style=ProgressStyle(description_wi…"
            ]
          },
          "metadata": {
            "tags": []
          }
        },
        {
          "output_type": "stream",
          "text": [
            "\n"
          ],
          "name": "stdout"
        },
        {
          "output_type": "display_data",
          "data": {
            "application/vnd.jupyter.widget-view+json": {
              "model_id": "df4741b287914ecb8ee7a42d56fa0143",
              "version_minor": 0,
              "version_major": 2
            },
            "text/plain": [
              "HBox(children=(IntProgress(value=0, description='Downloading', max=456318, style=ProgressStyle(description_wid…"
            ]
          },
          "metadata": {
            "tags": []
          }
        },
        {
          "output_type": "stream",
          "text": [
            "\n"
          ],
          "name": "stdout"
        }
      ]
    },
    {
      "cell_type": "code",
      "metadata": {
        "id": "tvUAg8MnHHYj",
        "colab_type": "code",
        "outputId": "3cffb906-adf1-47cb-f733-818b0bfb8b6f",
        "colab": {
          "base_uri": "https://localhost:8080/",
          "height": 132,
          "referenced_widgets": [
            "025896ee4c464162a7ce0a9ecf74e959",
            "85e37786b40f44179cb464d93417d60e",
            "1e3a6add43714ef9a06717d590b05210",
            "e06ee46547eb47fa8102c1ed2dabcf2a",
            "f9086d596e8b4662a78ee14940201e2d",
            "51315c2b5315414e8411ebd5848c732b",
            "ee24b17fb5e34fad9e1d2e3dd2185f77",
            "ff01bd594d754e1eae51796f769b7e74",
            "ceed9f78b02a48b595adce82f3e1c63f",
            "190aaa9c880b4aeb8121e74c79c4d7c1",
            "3896dbe4d86248c09de4f975c2d3fbbd",
            "81242ab3f8914a02b24908947b176ae5",
            "93d27a4799854f5ea6d7805165413994",
            "f736451dbfac41bbaaa62ce99eeb8683",
            "be0573cabffd43d0949dc25ff5b839b5",
            "ee1d112b6894476584fb23b2e365d630"
          ]
        }
      },
      "source": [
        "model = GPT2LMHeadModel.from_pretrained('gpt2-large')\n",
        "model.to(device)\n",
        "print('Model loaded')"
      ],
      "execution_count": 0,
      "outputs": [
        {
          "output_type": "display_data",
          "data": {
            "application/vnd.jupyter.widget-view+json": {
              "model_id": "025896ee4c464162a7ce0a9ecf74e959",
              "version_minor": 0,
              "version_major": 2
            },
            "text/plain": [
              "HBox(children=(IntProgress(value=0, description='Downloading', max=577, style=ProgressStyle(description_width=…"
            ]
          },
          "metadata": {
            "tags": []
          }
        },
        {
          "output_type": "stream",
          "text": [
            "\n"
          ],
          "name": "stdout"
        },
        {
          "output_type": "display_data",
          "data": {
            "application/vnd.jupyter.widget-view+json": {
              "model_id": "ceed9f78b02a48b595adce82f3e1c63f",
              "version_minor": 0,
              "version_major": 2
            },
            "text/plain": [
              "HBox(children=(IntProgress(value=0, description='Downloading', max=3247202234, style=ProgressStyle(description…"
            ]
          },
          "metadata": {
            "tags": []
          }
        },
        {
          "output_type": "stream",
          "text": [
            "\n",
            "Model loaded\n"
          ],
          "name": "stdout"
        }
      ]
    },
    {
      "cell_type": "code",
      "metadata": {
        "id": "EhAnX37bzPJb",
        "colab_type": "code",
        "outputId": "ea7a3c90-3036-4d82-92a9-54926db6ec52",
        "colab": {
          "base_uri": "https://localhost:8080/",
          "height": 71
        }
      },
      "source": [
        "text = tokenizer.encode('Today Patriots will play against' )\n",
        "input = torch.tensor([text]).to(device)\n",
        "past = None \n",
        "\n",
        "for _ in range(100):\n",
        "  logits, past = model(input,past=past)\n",
        "  input = torch.multinomial(F.softmax(logits[:,-1]),1)\n",
        "  text.append(input.item())"
      ],
      "execution_count": 0,
      "outputs": [
        {
          "output_type": "stream",
          "text": [
            "/usr/local/lib/python3.6/dist-packages/ipykernel_launcher.py:7: UserWarning: Implicit dimension choice for softmax has been deprecated. Change the call to include dim=X as an argument.\n",
            "  import sys\n"
          ],
          "name": "stderr"
        }
      ]
    },
    {
      "cell_type": "code",
      "metadata": {
        "id": "NSWIJfJ40H7F",
        "colab_type": "code",
        "outputId": "c278bd2f-50f8-4b1d-ec49-109c20027c93",
        "colab": {
          "base_uri": "https://localhost:8080/",
          "height": 54
        }
      },
      "source": [
        "tokenizer.decode(text)"
      ],
      "execution_count": 0,
      "outputs": [
        {
          "output_type": "execute_result",
          "data": {
            "text/plain": [
              "'today patriots will play against us,\" his honorary group said at the rally, said former operative for Agriculture Department Tom Vilsack. \"We all have to accept the responsibility for that.\"<|endoftext|>(CNN) Health officials in the United States have endorsed the use of vaccines to prevent the spread of the Zika virus, a declaration that comes as the US Centers for Disease Control and Prevention is downplaying the risk of secondary sexual transmission.\\n\\nIt was the first time scientists had hosted and encouraged discussion of what holds the risk of Zika'"
            ]
          },
          "metadata": {
            "tags": []
          },
          "execution_count": 15
        }
      ]
    },
    {
      "cell_type": "code",
      "metadata": {
        "id": "-yzigaWazCL7",
        "colab_type": "code",
        "outputId": "0bef0420-08a7-4778-e554-dabf60b66c74",
        "colab": {
          "base_uri": "https://localhost:8080/",
          "height": 34
        }
      },
      "source": [
        "cd drive/My\\ Drive/NewsGen"
      ],
      "execution_count": 0,
      "outputs": [
        {
          "output_type": "stream",
          "text": [
            "/content/drive/My Drive/NewsGen\n"
          ],
          "name": "stdout"
        }
      ]
    },
    {
      "cell_type": "code",
      "metadata": {
        "id": "ubaS2a2hUAiu",
        "colab_type": "code",
        "outputId": "46833853-64d0-480f-decc-eb99dc54d51f",
        "colab": {
          "base_uri": "https://localhost:8080/",
          "height": 34
        }
      },
      "source": [
        "ls"
      ],
      "execution_count": 0,
      "outputs": [
        {
          "output_type": "stream",
          "text": [
            "\u001b[0m\u001b[01;34msample_data\u001b[0m/\n"
          ],
          "name": "stdout"
        }
      ]
    },
    {
      "cell_type": "markdown",
      "metadata": {
        "id": "5loB1cqcRLKR",
        "colab_type": "text"
      },
      "source": [
        "# Dataloaders"
      ]
    },
    {
      "cell_type": "code",
      "metadata": {
        "id": "gkeJLIlWz0w8",
        "colab_type": "code",
        "colab": {}
      },
      "source": [
        "import pandas as pd"
      ],
      "execution_count": 0,
      "outputs": []
    },
    {
      "cell_type": "code",
      "metadata": {
        "id": "KJ6YL7_nSSiv",
        "colab_type": "code",
        "colab": {}
      },
      "source": [
        "BATCH_SIZE = 16"
      ],
      "execution_count": 0,
      "outputs": []
    },
    {
      "cell_type": "code",
      "metadata": {
        "id": "6kmEACKCagMZ",
        "colab_type": "code",
        "colab": {}
      },
      "source": [
        "#model.load_state_dict(torch.load('model/gpt2_medium_4.pt'))"
      ],
      "execution_count": 0,
      "outputs": []
    },
    {
      "cell_type": "code",
      "metadata": {
        "id": "_Ahg3zdQHENc",
        "colab_type": "code",
        "colab": {}
      },
      "source": [
        "#\n",
        "end_of_text_token = \"<|endoftext|>\"\n",
        "from torch.utils.data import IterableDataset\n",
        "from torch.utils.data import DataLoader\n",
        "from itertools import cycle, islice, chain\n",
        "class IterData(IterableDataset):\n",
        "  \"\"\"This class helps to get text in news\"\"\"\n",
        "  def __init__(self, filename,tokenizer):\n",
        "    self.filename = filename\n",
        "    self.tokenizer = tokenizer\n",
        "\n",
        "  \n",
        "  def parse_file(self, file_path):\n",
        "    with open(file_path, 'r') as file_obj:\n",
        "      for line in file_obj:\n",
        "        # Maybe change how you create batches\n",
        "        tokens = line.split('.') \n",
        "\n",
        "        yield from tokens\n",
        "\n",
        "  def get_stream(self, file_path):\n",
        "    # give in seq_len\n",
        "    \n",
        "    return cycle(self.parse_file(file_path))\n",
        "\n",
        "  def __iter__(self):\n",
        "    \"\"\" Returns string of text \"\"\"\n",
        "    return self.get_stream(self.filename)"
      ],
      "execution_count": 0,
      "outputs": []
    },
    {
      "cell_type": "code",
      "metadata": {
        "id": "j-h64f6U_tvD",
        "colab_type": "code",
        "colab": {}
      },
      "source": [
        "dataset = IterData('train.txt',tokenizer)\n",
        "dataloader = DataLoader(dataset, batch_size=BATCH_SIZE,num_workers=0)"
      ],
      "execution_count": 0,
      "outputs": []
    },
    {
      "cell_type": "code",
      "metadata": {
        "id": "yN_rgm2kmXCr",
        "colab_type": "code",
        "colab": {}
      },
      "source": [
        "def get_seq(input,seq_len):\n",
        "  input = ' '.join([sent for sent in input])\n",
        "  t = input.split(' ')\n",
        "  t = t[:seq_len]\n",
        "  news = ' '.join([w for w in t])\n",
        "  return news\n"
      ],
      "execution_count": 0,
      "outputs": []
    },
    {
      "cell_type": "markdown",
      "metadata": {
        "id": "AsvUUD2QRGtQ",
        "colab_type": "text"
      },
      "source": [
        "# Training"
      ]
    },
    {
      "cell_type": "code",
      "metadata": {
        "id": "Xf9MoJi-GFSM",
        "colab_type": "code",
        "colab": {}
      },
      "source": [
        "#hparams\n",
        "import os\n",
        "\n",
        "EPOCHS = 5\n",
        "LEARNING_RATE = 3e-5\n",
        "WARMUP_STEPS = 5000\n",
        "MAX_SEQ_LEN = 700"
      ],
      "execution_count": 0,
      "outputs": []
    },
    {
      "cell_type": "code",
      "metadata": {
        "id": "d_t7nUAfEGve",
        "colab_type": "code",
        "colab": {}
      },
      "source": [
        "model.to(device)\n",
        "model.train()\n",
        "optimizer = AdamW(model.parameters(),lr=LEARNING_RATE)\n",
        "#scheduler = get_linear_schedule_with_warmup(optimizer, warmup_steps=WARMUP_STEPS, t_total=-1)\n",
        "# Create a scheduler and learn what scheduler is\n",
        "scheduler = get_linear_schedule_with_warmup(optimizer, \n",
        "                                            num_warmup_steps=WARMUP_STEPS,\n",
        "                                            num_training_steps=6)\n",
        "proc_seq_count = 0\n",
        "sum_loss = 0.0\n",
        "batch_count = 0\n",
        "models_folder = './model/'"
      ],
      "execution_count": 0,
      "outputs": []
    },
    {
      "cell_type": "code",
      "metadata": {
        "id": "OXDc-kaGo6uc",
        "colab_type": "code",
        "colab": {}
      },
      "source": [
        "from torch.utils.tensorboard import SummaryWriter\n",
        "\n",
        "# default `log_dir` is \"runs\" - we'll be more specific here\n",
        "#writer = SummaryWriter('runs/fashion_mnist_experiment_1')"
      ],
      "execution_count": 0,
      "outputs": []
    },
    {
      "cell_type": "code",
      "metadata": {
        "id": "TdNqLdGiS3Cf",
        "colab_type": "code",
        "outputId": "8800706c-5a60-4bb9-d065-5346f4baa6f4",
        "colab": {
          "base_uri": "https://localhost:8080/",
          "height": 34
        }
      },
      "source": [
        "# Find out about the batch\n",
        "tmp_news_tens = None\n",
        "MAX_SEQ_LEN = 700\n",
        "epoch_loss = 0\n",
        "for epoch in range(EPOCHS):\n",
        "  \n",
        "  print(f\"EPOCH {epoch} started\" + '=' * 30)\n",
        "  if epoch != 0:\n",
        "    print(f\"Epoch of loss: {epoch_loss} for epoch {epoch}\")\n",
        "    epoch_loss = 0\n",
        "\n",
        "  for i,news in enumerate(dataloader):\n",
        "\n",
        "    news = get_seq(news,MAX_SEQ_LEN)\n",
        "\n",
        "    news_tensor = torch.tensor(tokenizer.encode([news])).unsqueeze(0).to(device)\n",
        "    if news_tensor.size()[1] > MAX_SEQ_LEN:\n",
        "      continue\n",
        "          \n",
        "    #The first joke sequence in the sequence\n",
        "    if not torch.is_tensor(tmp_news_tens):\n",
        "        tmp_news_tens = news_tensor\n",
        "        continue\n",
        "    else:\n",
        "        #The next joke does not fit in so we process the sequence and leave the last joke \n",
        "        #as the start for next sequence \n",
        "        if tmp_news_tens.size()[1] + news_tensor.size()[1] > MAX_SEQ_LEN:\n",
        "            work_news_tens = tmp_news_tens\n",
        "            tmp_news_tens = news_tensor\n",
        "        else:\n",
        "            #Add the joke to sequence, continue and try to add more\n",
        "            tmp_news_tens = torch.cat([tmp_news_tens, news_tensor[:,1:]], dim=1)\n",
        "            continue\n",
        "    outputs = model(work_news_tens,labels=work_news_tens)\n",
        "    loss, logits = outputs[:2]\n",
        "    loss.backward()\n",
        "    sum_loss += loss.detach().data\n",
        "    epoch_loss = sum_loss\n",
        "    proc_seq_count += 1\n",
        "    if proc_seq_count == 5:\n",
        "      proc_seq_count = 0\n",
        "      batch_count += 1\n",
        "      optimizer.step()\n",
        "      optimizer.zero_grad()\n",
        "    if batch_count == 100:\n",
        "      print(f\"sum loss {sum_loss}\")\n",
        "      batch_count = 0\n",
        "      sum_loss = 0.0\n",
        "\n",
        "  #out = torch.topk(outputs[0], 1)\n",
        "  #print(out)\n",
        "  if epoch % 3 == 0:\n",
        "    torch.save(model.state_dict(), os.path.join(models_folder, f\"gpt2_large_{epoch}.pt\"))\n"
      ],
      "execution_count": 0,
      "outputs": [
        {
          "output_type": "stream",
          "text": [
            "EPOCH 0 started==============================\n"
          ],
          "name": "stdout"
        }
      ]
    },
    {
      "cell_type": "code",
      "metadata": {
        "id": "93Qq1gV45i7S",
        "colab_type": "code",
        "outputId": "784ca6ec-ab2f-4821-c48c-f04c2f5700f1",
        "colab": {
          "base_uri": "https://localhost:8080/",
          "height": 71
        }
      },
      "source": [
        "text = tokenizer.encode('Tonights game against Manchester City.')\n",
        "input = torch.tensor([text]).to(device)\n",
        "past = None \n",
        "\n",
        "for _ in range(120):\n",
        "  logits, past = model(input,past=past)\n",
        "  input = torch.multinomial(F.softmax(logits[:,-1]),1)\n",
        "  text.append(input.item())"
      ],
      "execution_count": 0,
      "outputs": [
        {
          "output_type": "stream",
          "text": [
            "/usr/local/lib/python3.6/dist-packages/ipykernel_launcher.py:7: UserWarning: Implicit dimension choice for softmax has been deprecated. Change the call to include dim=X as an argument.\n",
            "  import sys\n"
          ],
          "name": "stderr"
        }
      ]
    },
    {
      "cell_type": "code",
      "metadata": {
        "id": "E-ac7E24OXPU",
        "colab_type": "code",
        "colab": {}
      },
      "source": [
        "out = tokenizer.decode(text)\n",
        "out = out.replace('\\n\\n', '').replace(end_of_text_token, '.').replace('\\ ', '')"
      ],
      "execution_count": 0,
      "outputs": []
    },
    {
      "cell_type": "code",
      "metadata": {
        "id": "WiJHMkriOIgX",
        "colab_type": "code",
        "outputId": "9ea4ea52-9700-47bc-effe-30a07a96af6b",
        "colab": {
          "base_uri": "https://localhost:8080/",
          "height": 54
        }
      },
      "source": [
        "out"
      ],
      "execution_count": 0,
      "outputs": [
        {
          "output_type": "execute_result",
          "data": {
            "text/plain": [
              "'tonights game against manchester city.10 days, 10pm.www.ultrahighpitalshay.comTODAY BEGINNING TIME: 7.30pmALSO ON OPP Radio.Michael R. Wyatt Underground at 390 Sharp, Seattle\\nThe world is something you learn deep within your bones -- beats you down for feel, keenness and the ability to articulate deep feelings as an expansive/sprawling streetscapes with the angry pulse. The feeling of a world disconnected, something you make in the day and draw out all its insides in one day with the'"
            ]
          },
          "metadata": {
            "tags": []
          },
          "execution_count": 46
        }
      ]
    },
    {
      "cell_type": "markdown",
      "metadata": {
        "id": "l0HVA84vCuhf",
        "colab_type": "text"
      },
      "source": [
        "# Metrics"
      ]
    },
    {
      "cell_type": "code",
      "metadata": {
        "id": "AQ1APog9RBiz",
        "colab_type": "code",
        "outputId": "3ba7e329-3b80-4cb8-de59-c313686af284",
        "colab": {
          "base_uri": "https://localhost:8080/",
          "height": 34
        }
      },
      "source": [
        "from nltk.translate.bleu_score import sentence_bleu\n",
        "reference = [['this', 'is', 'a', 'test'], ['this', 'is' 'test']]\n",
        "candidate = ['this', 'is', 'a', 'test']\n",
        "score = sentence_bleu(reference, candidate)\n",
        "print(score)"
      ],
      "execution_count": 0,
      "outputs": [
        {
          "output_type": "stream",
          "text": [
            "1.0\n"
          ],
          "name": "stdout"
        }
      ]
    },
    {
      "cell_type": "code",
      "metadata": {
        "id": "a-jMS0sb9kpi",
        "colab_type": "code",
        "colab": {}
      },
      "source": [
        "# Create a train and eval\n",
        "# fine tune the model on News Dataset"
      ],
      "execution_count": 0,
      "outputs": []
    }
  ]
}